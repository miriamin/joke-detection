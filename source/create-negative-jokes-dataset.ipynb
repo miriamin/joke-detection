{
 "cells": [
  {
   "cell_type": "markdown",
   "metadata": {},
   "source": [
    "## Create a negative joke dataset\n"
   ]
  },
  {
   "cell_type": "code",
   "execution_count": 4,
   "metadata": {},
   "outputs": [],
   "source": [
    "import importlib\n",
    "import nojokes\n",
    "import prejokes\n",
    "from prejokes import JokePreprocessor\n",
    "import pandas as pd\n",
    "from sklearn.model_selection import train_test_split \n",
    "import statistics \n",
    "from statistics import mode\n",
    "import numpy as np\n",
    "import matplotlib.mlab as mlab\n",
    "import matplotlib.pyplot as plt\n",
    "from matplotlib.pyplot import figure\n",
    "from nltk.tokenize import sent_tokenize\n",
    "import seaborn as sns\n",
    "%matplotlib inline  "
   ]
  },
  {
   "cell_type": "markdown",
   "metadata": {},
   "source": [
    "## Characteristics and requirements of the negative jokes\n",
    "\n",
    "The negative jokes should be similar to the real jokes regarding the following features:\n",
    "* style (narrative, fictional)\n",
    "* length (number of sentences)\n",
    "* vocabulary \n",
    "* syntactic features (word classes etc.)  \n",
    "\n",
    "#### Style\n",
    "In order to collect texts that follow a certain narrative structure, the negative jokes will be drawn from a dataset of American movie plots from Wikipedia.  \n",
    "\n",
    "\n",
    "#### Length\n",
    "The movie plots in the dataset are longer than a single joke. To encounter this issue, the following methodology will be applied:\n",
    "1. Find the average length (number of sentences) in the jokes dataset.\n",
    "2. Split the movie plot dataset into sentence n-grams according to the determined length\n"
   ]
  },
  {
   "cell_type": "code",
   "execution_count": 5,
   "metadata": {},
   "outputs": [],
   "source": [
    "jokes_file = '../data/s3_curated_jokes.csv'\n",
    "jp = JokePreprocessor()\n",
    "joke_df = jp.load(jokes_file)\n",
    "joke_df['Sentence_count'] = joke_df['Joke'].apply(lambda x: jp.count_sentences(x))"
   ]
  },
  {
   "cell_type": "code",
   "execution_count": 6,
   "metadata": {},
   "outputs": [
    {
     "data": {
      "text/plain": [
       "(28471, 2)"
      ]
     },
     "execution_count": 6,
     "metadata": {},
     "output_type": "execute_result"
    }
   ],
   "source": [
    "joke_df.shape"
   ]
  },
  {
   "cell_type": "code",
   "execution_count": 9,
   "metadata": {},
   "outputs": [
    {
     "data": {
      "image/png": "[encoded data removed]",
      "text/plain": [
       "<matplotlib.figure.Figure at 0x108bcb748>"
      ]
     },
     "metadata": {},
     "output_type": "display_data"
    }
   ],
   "source": [
    "xlim = 40\n",
    "plt.figure(figsize=(20, 10))\n",
    "histo = sns.countplot( joke_df['Sentence_count'])\n",
    "plt.xlim(0, 40)\n",
    "plt.xlabel('Number of sentences in Joke')\n",
    "plt.ylabel('Frequency')\n",
    "plt.title('Histogram of Number of sentences in jokes')\n",
    "histo.figure.savefig(\"../plots/joke_sentence_frequencies.png\")\n",
    "\n",
    "#sns.set(rc={'figure.figsize':(50,50)})\n",
    "\n",
    "\n"
   ]
  },
  {
   "cell_type": "markdown",
   "metadata": {},
   "source": [
    "#### Average length and median"
   ]
  },
  {
   "cell_type": "code",
   "execution_count": 4,
   "metadata": {},
   "outputs": [
    {
     "name": "stdout",
     "output_type": "stream",
     "text": [
      "Mean: 7.106599697938253\n",
      "Median: 3.0\n"
     ]
    }
   ],
   "source": [
    "mean = joke_df['Sentence_count'].mean()\n",
    "median = joke_df['Sentence_count'].median()\n",
    "\n",
    "print('Mean: ' + str(mean))\n",
    "print('Median: ' + str(median))"
   ]
  },
  {
   "cell_type": "markdown",
   "metadata": {},
   "source": [
    "#### Split movie plot data into sentence n-grams"
   ]
  },
  {
   "cell_type": "code",
   "execution_count": null,
   "metadata": {},
   "outputs": [],
   "source": [
    "jp = JokePreprocessor()\n",
    "importlib.reload(nojokes)"
   ]
  },
  {
   "cell_type": "code",
   "execution_count": 5,
   "metadata": {},
   "outputs": [],
   "source": [
    "movieplots_file = '../data/plotdata.txt'\n",
    "with open(movieplots_file) as file:\n",
    "    movieplots = file.read().strip().split('\\n\\n\\n\\n\\n\\n')\n",
    "plot_df = pd.DataFrame(movieplots)\n",
    "plot_df.columns = ['plot']\n",
    "plot_df = jp.sentence_n_grams_split(plot_df, 'plot', 6)\n",
    "plot_df.columns = ['nonjoke']"
   ]
  },
  {
   "cell_type": "code",
   "execution_count": 8,
   "metadata": {},
   "outputs": [],
   "source": [
    "# this df holds all sentence ngrams\n",
    "outfile = '../data/movieplots_6gram.csv'\n",
    "plot_df.to_csv(outfile)"
   ]
  },
  {
   "cell_type": "code",
   "execution_count": null,
   "metadata": {},
   "outputs": [],
   "source": [
    "df = nojokes.mysql_import('eng_wikipedia_2016_1M','sentences')\n",
    "df= df.drop([0], axis = 1)\n",
    "df = df.rename(columns={1:'sentence'})\n",
    "df = jp.remove_punctuation(df, 'sentence')\n",
    "df = jp.replace_numbers(df, 'sentence')\n",
    "df = jp.clean_and_tokenize(df, 'sentence')\n",
    "df.to_csv(out_file)"
   ]
  },
  {
   "cell_type": "markdown",
   "metadata": {},
   "source": [
    "#### Filter jokes by number of sentences"
   ]
  },
  {
   "cell_type": "code",
   "execution_count": 17,
   "metadata": {},
   "outputs": [],
   "source": [
    "outfile = '../data/jokes_6gram.csv'\n",
    "filtered_jokes = jp.filter_by_joke_len(joke_df, 'Sentence_count', 6)\n",
    "# this df holds all joke ngrams\n",
    "filtered_jokes = filtered_jokes['Joke'].reset_index(drop=True)\n",
    "filtered_jokes = filtered_jokes.drop(['0'], axis =1)\n",
    "filtered_jokes.columns = ['joke']\n",
    "filtered_jokes.to_csv(outfile)"
   ]
  },
  {
   "cell_type": "code",
   "execution_count": null,
   "metadata": {},
   "outputs": [],
   "source": []
  },
  {
   "cell_type": "markdown",
   "metadata": {},
   "source": [
    "# Calculate Similarities"
   ]
  },
  {
   "cell_type": "markdown",
   "metadata": {},
   "source": [
    "#### Joke Dataset"
   ]
  },
  {
   "cell_type": "code",
   "execution_count": 2,
   "metadata": {},
   "outputs": [
    {
     "data": {
      "text/html": [
       "<div>\n",
       "<style scoped>\n",
       "    .dataframe tbody tr th:only-of-type {\n",
       "        vertical-align: middle;\n",
       "    }\n",
       "\n",
       "    .dataframe tbody tr th {\n",
       "        vertical-align: top;\n",
       "    }\n",
       "\n",
       "    .dataframe thead th {\n",
       "        text-align: right;\n",
       "    }\n",
       "</style>\n",
       "<table border=\"1\" class=\"dataframe\">\n",
       "  <thead>\n",
       "    <tr style=\"text-align: right;\">\n",
       "      <th></th>\n",
       "      <th>joke</th>\n",
       "    </tr>\n",
       "  </thead>\n",
       "  <tbody>\n",
       "    <tr>\n",
       "      <th>0</th>\n",
       "      <td>A blonde is walking down the street with her ...</td>\n",
       "    </tr>\n",
       "    <tr>\n",
       "      <th>1</th>\n",
       "      <td>A blonde, a brunette and a redhead were walki...</td>\n",
       "    </tr>\n",
       "    <tr>\n",
       "      <th>2</th>\n",
       "      <td>There was a blonde woman who was having finan...</td>\n",
       "    </tr>\n",
       "    <tr>\n",
       "      <th>3</th>\n",
       "      <td>This blonde had a near death experience the o...</td>\n",
       "    </tr>\n",
       "    <tr>\n",
       "      <th>4</th>\n",
       "      <td>Two blondes are walking down a road, one has ...</td>\n",
       "    </tr>\n",
       "  </tbody>\n",
       "</table>\n",
       "</div>"
      ],
      "text/plain": [
       "                                                joke\n",
       "0   A blonde is walking down the street with her ...\n",
       "1   A blonde, a brunette and a redhead were walki...\n",
       "2   There was a blonde woman who was having finan...\n",
       "3   This blonde had a near death experience the o...\n",
       "4   Two blondes are walking down a road, one has ..."
      ]
     },
     "execution_count": 2,
     "metadata": {},
     "output_type": "execute_result"
    }
   ],
   "source": [
    "jokefile = '../data/jokes_6gram.csv'\n",
    "joke_df = pd.read_csv(jokefile, index_col=0)\n",
    "joke_df.head()"
   ]
  },
  {
   "cell_type": "markdown",
   "metadata": {},
   "source": [
    "#### Nonjoke-Dataset"
   ]
  },
  {
   "cell_type": "code",
   "execution_count": 3,
   "metadata": {},
   "outputs": [
    {
     "data": {
      "text/html": [
       "<div>\n",
       "<style scoped>\n",
       "    .dataframe tbody tr th:only-of-type {\n",
       "        vertical-align: middle;\n",
       "    }\n",
       "\n",
       "    .dataframe tbody tr th {\n",
       "        vertical-align: top;\n",
       "    }\n",
       "\n",
       "    .dataframe thead th {\n",
       "        text-align: right;\n",
       "    }\n",
       "</style>\n",
       "<table border=\"1\" class=\"dataframe\">\n",
       "  <thead>\n",
       "    <tr style=\"text-align: right;\">\n",
       "      <th></th>\n",
       "      <th>nonjoke</th>\n",
       "    </tr>\n",
       "  </thead>\n",
       "  <tbody>\n",
       "    <tr>\n",
       "      <th>0</th>\n",
       "      <td>After three years in prison, Cruella de Vil ha...</td>\n",
       "    </tr>\n",
       "    <tr>\n",
       "      <th>1</th>\n",
       "      <td>Cruella therefore mends her working relationsh...</td>\n",
       "    </tr>\n",
       "    <tr>\n",
       "      <th>2</th>\n",
       "      <td>Cruella's probation officer, Chloe Simon, neve...</td>\n",
       "    </tr>\n",
       "    <tr>\n",
       "      <th>3</th>\n",
       "      <td>Dipstick's mate, Dottie, has recently given bi...</td>\n",
       "    </tr>\n",
       "    <tr>\n",
       "      <th>4</th>\n",
       "      <td>To mend her reputation, Cruella buys the Secon...</td>\n",
       "    </tr>\n",
       "  </tbody>\n",
       "</table>\n",
       "</div>"
      ],
      "text/plain": [
       "                                             nonjoke\n",
       "0  After three years in prison, Cruella de Vil ha...\n",
       "1  Cruella therefore mends her working relationsh...\n",
       "2  Cruella's probation officer, Chloe Simon, neve...\n",
       "3  Dipstick's mate, Dottie, has recently given bi...\n",
       "4  To mend her reputation, Cruella buys the Secon..."
      ]
     },
     "execution_count": 3,
     "metadata": {},
     "output_type": "execute_result"
    }
   ],
   "source": [
    "nonjokefile = '../data/movieplots_6gram.csv'\n",
    "nonjoke_df = pd.read_csv(nonjokefile, index_col=0)\n",
    "nonjoke_df.columns = ['nonjoke']\n",
    "nonjoke_df.head()"
   ]
  },
  {
   "cell_type": "markdown",
   "metadata": {},
   "source": [
    "For every joke in the Joke Dataset: Calculate the similarity of each document in the Nonjoke-Dataset"
   ]
  },
  {
   "cell_type": "markdown",
   "metadata": {},
   "source": [
    "### Preprocess text data"
   ]
  },
  {
   "cell_type": "code",
   "execution_count": 4,
   "metadata": {},
   "outputs": [
    {
     "data": {
      "text/html": [
       "<div>\n",
       "<style scoped>\n",
       "    .dataframe tbody tr th:only-of-type {\n",
       "        vertical-align: middle;\n",
       "    }\n",
       "\n",
       "    .dataframe tbody tr th {\n",
       "        vertical-align: top;\n",
       "    }\n",
       "\n",
       "    .dataframe thead th {\n",
       "        text-align: right;\n",
       "    }\n",
       "</style>\n",
       "<table border=\"1\" class=\"dataframe\">\n",
       "  <thead>\n",
       "    <tr style=\"text-align: right;\">\n",
       "      <th></th>\n",
       "      <th>joke_spacy_vectorized</th>\n",
       "    </tr>\n",
       "  </thead>\n",
       "  <tbody>\n",
       "    <tr>\n",
       "      <th>0</th>\n",
       "      <td>blonde walking street blouse open exposing one...</td>\n",
       "    </tr>\n",
       "    <tr>\n",
       "      <th>1</th>\n",
       "      <td>blonde brunette redhead walking along beach se...</td>\n",
       "    </tr>\n",
       "    <tr>\n",
       "      <th>2</th>\n",
       "      <td>blonde woman financial troubles decided kidnap...</td>\n",
       "    </tr>\n",
       "    <tr>\n",
       "      <th>3</th>\n",
       "      <td>blonde near death experience day climbed top h...</td>\n",
       "    </tr>\n",
       "    <tr>\n",
       "      <th>4</th>\n",
       "      <td>two blondes walking road one large sports bag ...</td>\n",
       "    </tr>\n",
       "  </tbody>\n",
       "</table>\n",
       "</div>"
      ],
      "text/plain": [
       "                               joke_spacy_vectorized\n",
       "0  blonde walking street blouse open exposing one...\n",
       "1  blonde brunette redhead walking along beach se...\n",
       "2  blonde woman financial troubles decided kidnap...\n",
       "3  blonde near death experience day climbed top h...\n",
       "4  two blondes walking road one large sports bag ..."
      ]
     },
     "execution_count": 4,
     "metadata": {},
     "output_type": "execute_result"
    }
   ],
   "source": [
    "jp = JokePreprocessor()\n",
    "joke_df = jp.clean_and_tokenize_spacy(joke_df, 'joke')\n",
    "joke_df.head()"
   ]
  },
  {
   "cell_type": "code",
   "execution_count": 5,
   "metadata": {},
   "outputs": [
    {
     "data": {
      "text/html": [
       "<div>\n",
       "<style scoped>\n",
       "    .dataframe tbody tr th:only-of-type {\n",
       "        vertical-align: middle;\n",
       "    }\n",
       "\n",
       "    .dataframe tbody tr th {\n",
       "        vertical-align: top;\n",
       "    }\n",
       "\n",
       "    .dataframe thead th {\n",
       "        text-align: right;\n",
       "    }\n",
       "</style>\n",
       "<table border=\"1\" class=\"dataframe\">\n",
       "  <thead>\n",
       "    <tr style=\"text-align: right;\">\n",
       "      <th></th>\n",
       "      <th>nonjoke_spacy_vectorized</th>\n",
       "    </tr>\n",
       "  </thead>\n",
       "  <tbody>\n",
       "    <tr>\n",
       "      <th>0</th>\n",
       "      <td>three years prison cruella de vil cured desire...</td>\n",
       "    </tr>\n",
       "    <tr>\n",
       "      <th>1</th>\n",
       "      <td>cruella therefore mends working relationship v...</td>\n",
       "    </tr>\n",
       "    <tr>\n",
       "      <th>2</th>\n",
       "      <td>cruellas probation officer chloe simon neverth...</td>\n",
       "    </tr>\n",
       "    <tr>\n",
       "      <th>3</th>\n",
       "      <td>dipsticks mate dottie recently given birth thr...</td>\n",
       "    </tr>\n",
       "    <tr>\n",
       "      <th>4</th>\n",
       "      <td>mend reputation cruella buys second chance dog...</td>\n",
       "    </tr>\n",
       "  </tbody>\n",
       "</table>\n",
       "</div>"
      ],
      "text/plain": [
       "                            nonjoke_spacy_vectorized\n",
       "0  three years prison cruella de vil cured desire...\n",
       "1  cruella therefore mends working relationship v...\n",
       "2  cruellas probation officer chloe simon neverth...\n",
       "3  dipsticks mate dottie recently given birth thr...\n",
       "4  mend reputation cruella buys second chance dog..."
      ]
     },
     "execution_count": 5,
     "metadata": {},
     "output_type": "execute_result"
    }
   ],
   "source": [
    "nonjoke_df = jp.clean_and_tokenize_spacy(nonjoke_df, 'nonjoke')\n",
    "nonjoke_df.head()"
   ]
  },
  {
   "cell_type": "code",
   "execution_count": 6,
   "metadata": {},
   "outputs": [],
   "source": [
    "jokes_tokenized = '../data/jokes_6gram_clean_tokenized_spacy.csv'\n",
    "nonjokes_tokenized = '../data/movieplots_6gram_clean_tokenized_spacy.csv'\n",
    "joke_df.to_csv(jokes_tokenized)\n",
    "nonjoke_df.to_csv(nonjokes_tokenized)\n"
   ]
  },
  {
   "cell_type": "markdown",
   "metadata": {},
   "source": [
    "### Build similarity df"
   ]
  },
  {
   "cell_type": "code",
   "execution_count": 7,
   "metadata": {},
   "outputs": [],
   "source": [
    "jokes_tokenized = '../data/jokes_6gram_clean_tokenized_spacy.csv'\n",
    "nonjokes_tokenized = '../data/movieplots_6gram_clean_tokenized_spacy.csv'\n",
    "jokes_df = pd.read_csv(jokes_tokenized, index_col=0)\n",
    "nonjokes_df = pd.read_csv(nonjokes_tokenized, index_col=0)"
   ]
  },
  {
   "cell_type": "code",
   "execution_count": 8,
   "metadata": {},
   "outputs": [
    {
     "data": {
      "text/html": [
       "<div>\n",
       "<style scoped>\n",
       "    .dataframe tbody tr th:only-of-type {\n",
       "        vertical-align: middle;\n",
       "    }\n",
       "\n",
       "    .dataframe tbody tr th {\n",
       "        vertical-align: top;\n",
       "    }\n",
       "\n",
       "    .dataframe thead th {\n",
       "        text-align: right;\n",
       "    }\n",
       "</style>\n",
       "<table border=\"1\" class=\"dataframe\">\n",
       "  <thead>\n",
       "    <tr style=\"text-align: right;\">\n",
       "      <th></th>\n",
       "      <th>joke_spacy_vectorized</th>\n",
       "    </tr>\n",
       "  </thead>\n",
       "  <tbody>\n",
       "    <tr>\n",
       "      <th>0</th>\n",
       "      <td>blonde walking street blouse open exposing one...</td>\n",
       "    </tr>\n",
       "    <tr>\n",
       "      <th>1</th>\n",
       "      <td>blonde brunette redhead walking along beach se...</td>\n",
       "    </tr>\n",
       "    <tr>\n",
       "      <th>2</th>\n",
       "      <td>blonde woman financial troubles decided kidnap...</td>\n",
       "    </tr>\n",
       "    <tr>\n",
       "      <th>3</th>\n",
       "      <td>blonde near death experience day climbed top h...</td>\n",
       "    </tr>\n",
       "    <tr>\n",
       "      <th>4</th>\n",
       "      <td>two blondes walking road one large sports bag ...</td>\n",
       "    </tr>\n",
       "  </tbody>\n",
       "</table>\n",
       "</div>"
      ],
      "text/plain": [
       "                               joke_spacy_vectorized\n",
       "0  blonde walking street blouse open exposing one...\n",
       "1  blonde brunette redhead walking along beach se...\n",
       "2  blonde woman financial troubles decided kidnap...\n",
       "3  blonde near death experience day climbed top h...\n",
       "4  two blondes walking road one large sports bag ..."
      ]
     },
     "execution_count": 8,
     "metadata": {},
     "output_type": "execute_result"
    }
   ],
   "source": [
    "jokes_df.head()"
   ]
  },
  {
   "cell_type": "code",
   "execution_count": 9,
   "metadata": {},
   "outputs": [
    {
     "data": {
      "text/html": [
       "<div>\n",
       "<style scoped>\n",
       "    .dataframe tbody tr th:only-of-type {\n",
       "        vertical-align: middle;\n",
       "    }\n",
       "\n",
       "    .dataframe tbody tr th {\n",
       "        vertical-align: top;\n",
       "    }\n",
       "\n",
       "    .dataframe thead th {\n",
       "        text-align: right;\n",
       "    }\n",
       "</style>\n",
       "<table border=\"1\" class=\"dataframe\">\n",
       "  <thead>\n",
       "    <tr style=\"text-align: right;\">\n",
       "      <th></th>\n",
       "      <th>nonjoke_spacy_vectorized</th>\n",
       "    </tr>\n",
       "  </thead>\n",
       "  <tbody>\n",
       "    <tr>\n",
       "      <th>0</th>\n",
       "      <td>three years prison cruella de vil cured desire...</td>\n",
       "    </tr>\n",
       "    <tr>\n",
       "      <th>1</th>\n",
       "      <td>cruella therefore mends working relationship v...</td>\n",
       "    </tr>\n",
       "    <tr>\n",
       "      <th>2</th>\n",
       "      <td>cruellas probation officer chloe simon neverth...</td>\n",
       "    </tr>\n",
       "    <tr>\n",
       "      <th>3</th>\n",
       "      <td>dipsticks mate dottie recently given birth thr...</td>\n",
       "    </tr>\n",
       "    <tr>\n",
       "      <th>4</th>\n",
       "      <td>mend reputation cruella buys second chance dog...</td>\n",
       "    </tr>\n",
       "  </tbody>\n",
       "</table>\n",
       "</div>"
      ],
      "text/plain": [
       "                            nonjoke_spacy_vectorized\n",
       "0  three years prison cruella de vil cured desire...\n",
       "1  cruella therefore mends working relationship v...\n",
       "2  cruellas probation officer chloe simon neverth...\n",
       "3  dipsticks mate dottie recently given birth thr...\n",
       "4  mend reputation cruella buys second chance dog..."
      ]
     },
     "execution_count": 9,
     "metadata": {},
     "output_type": "execute_result"
    }
   ],
   "source": [
    "nonjokes_df.head()"
   ]
  },
  {
   "cell_type": "code",
   "execution_count": 5,
   "metadata": {},
   "outputs": [
    {
     "name": "stderr",
     "output_type": "stream",
     "text": [
      "/Users/miriamamin/Documents/Digital_Humanities/WS1920/DH_Methods_Applications/joke-detection/source/prejokes.py:157: SettingWithCopyWarning: \n",
      "A value is trying to be set on a copy of a slice from a DataFrame.\n",
      "Try using .loc[row_indexer,col_indexer] = value instead\n",
      "\n",
      "See the caveats in the documentation: http://pandas.pydata.org/pandas-docs/stable/indexing.html#indexing-view-versus-copy\n",
      "  similarity_matrix[col_name] = similarity_matrix[col_name].apply(lambda x: nlp(x))\n",
      "/Users/miriamamin/Documents/Digital_Humanities/WS1920/DH_Methods_Applications/joke-detection/source/prejokes.py:160: SettingWithCopyWarning: \n",
      "A value is trying to be set on a copy of a slice from a DataFrame.\n",
      "Try using .loc[row_indexer,col_indexer] = value instead\n",
      "\n",
      "See the caveats in the documentation: http://pandas.pydata.org/pandas-docs/stable/indexing.html#indexing-view-versus-copy\n",
      "  similarity_matrix[str(i)] = similarity_matrix[col_name].apply(lambda x: x.similarity(compare_sentence))\n"
     ]
    },
    {
     "data": {
      "text/html": [
       "<div>\n",
       "<style scoped>\n",
       "    .dataframe tbody tr th:only-of-type {\n",
       "        vertical-align: middle;\n",
       "    }\n",
       "\n",
       "    .dataframe tbody tr th {\n",
       "        vertical-align: top;\n",
       "    }\n",
       "\n",
       "    .dataframe thead th {\n",
       "        text-align: right;\n",
       "    }\n",
       "</style>\n",
       "<table border=\"1\" class=\"dataframe\">\n",
       "  <thead>\n",
       "    <tr style=\"text-align: right;\">\n",
       "      <th></th>\n",
       "      <th>joke_spacy_vectorized</th>\n",
       "      <th>0</th>\n",
       "      <th>1</th>\n",
       "      <th>2</th>\n",
       "      <th>3</th>\n",
       "    </tr>\n",
       "  </thead>\n",
       "  <tbody>\n",
       "    <tr>\n",
       "      <th>0</th>\n",
       "      <td>(blonde, walking, street, blouse, open, exposi...</td>\n",
       "      <td>0.768916</td>\n",
       "      <td>0.780419</td>\n",
       "      <td>0.772973</td>\n",
       "      <td>0.782157</td>\n",
       "    </tr>\n",
       "    <tr>\n",
       "      <th>1</th>\n",
       "      <td>(blonde, brunette, redhead, walking, along, be...</td>\n",
       "      <td>0.735404</td>\n",
       "      <td>0.761470</td>\n",
       "      <td>0.757716</td>\n",
       "      <td>0.767174</td>\n",
       "    </tr>\n",
       "    <tr>\n",
       "      <th>2</th>\n",
       "      <td>(blonde, woman, financial, troubles, decided, ...</td>\n",
       "      <td>0.813459</td>\n",
       "      <td>0.824281</td>\n",
       "      <td>0.816462</td>\n",
       "      <td>0.816263</td>\n",
       "    </tr>\n",
       "    <tr>\n",
       "      <th>3</th>\n",
       "      <td>(blonde, near, death, experience, day, climbed...</td>\n",
       "      <td>0.806541</td>\n",
       "      <td>0.805204</td>\n",
       "      <td>0.788450</td>\n",
       "      <td>0.803720</td>\n",
       "    </tr>\n",
       "  </tbody>\n",
       "</table>\n",
       "</div>"
      ],
      "text/plain": [
       "                               joke_spacy_vectorized         0         1  \\\n",
       "0  (blonde, walking, street, blouse, open, exposi...  0.768916  0.780419   \n",
       "1  (blonde, brunette, redhead, walking, along, be...  0.735404  0.761470   \n",
       "2  (blonde, woman, financial, troubles, decided, ...  0.813459  0.824281   \n",
       "3  (blonde, near, death, experience, day, climbed...  0.806541  0.805204   \n",
       "\n",
       "          2         3  \n",
       "0  0.772973  0.782157  \n",
       "1  0.757716  0.767174  \n",
       "2  0.816462  0.816263  \n",
       "3  0.788450  0.803720  "
      ]
     },
     "execution_count": 5,
     "metadata": {},
     "output_type": "execute_result"
    }
   ],
   "source": [
    "jp = JokePreprocessor()\n",
    "test1 = jokes_df.loc[:3,]\n",
    "test2 = nonjokes_df.loc[:3,]\n",
    "sim_df = jp.similarity_matrix(test1, test2, 'joke_spacy_vectorized')\n",
    "sim_df"
   ]
  },
  {
   "cell_type": "code",
   "execution_count": 8,
   "metadata": {},
   "outputs": [],
   "source": [
    "sim_file = '../data/jokes_plots_similarity_matrix.csv'\n",
    "sim_df = jp.similarity_matrix(jokes_df, nonjokes_df, 'joke_spacy_vectorized')\n",
    "sim_df.to_csv(sim_file)"
   ]
  },
  {
   "cell_type": "code",
   "execution_count": 16,
   "metadata": {},
   "outputs": [],
   "source": [
    "sim = pd.read_csv(sim_file, index_col=0)"
   ]
  },
  {
   "cell_type": "code",
   "execution_count": 17,
   "metadata": {},
   "outputs": [
    {
     "data": {
      "text/html": [
       "<div>\n",
       "<style scoped>\n",
       "    .dataframe tbody tr th:only-of-type {\n",
       "        vertical-align: middle;\n",
       "    }\n",
       "\n",
       "    .dataframe tbody tr th {\n",
       "        vertical-align: top;\n",
       "    }\n",
       "\n",
       "    .dataframe thead th {\n",
       "        text-align: right;\n",
       "    }\n",
       "</style>\n",
       "<table border=\"1\" class=\"dataframe\">\n",
       "  <thead>\n",
       "    <tr style=\"text-align: right;\">\n",
       "      <th></th>\n",
       "      <th>joke_spacy_vectorized</th>\n",
       "      <th>0</th>\n",
       "      <th>1</th>\n",
       "      <th>2</th>\n",
       "      <th>3</th>\n",
       "      <th>4</th>\n",
       "      <th>5</th>\n",
       "      <th>6</th>\n",
       "      <th>7</th>\n",
       "      <th>8</th>\n",
       "      <th>...</th>\n",
       "      <th>80887</th>\n",
       "      <th>80888</th>\n",
       "      <th>80889</th>\n",
       "      <th>80890</th>\n",
       "      <th>80891</th>\n",
       "      <th>80892</th>\n",
       "      <th>80893</th>\n",
       "      <th>80894</th>\n",
       "      <th>80895</th>\n",
       "      <th>80896</th>\n",
       "    </tr>\n",
       "  </thead>\n",
       "  <tbody>\n",
       "    <tr>\n",
       "      <th>0</th>\n",
       "      <td>blonde walking street blouse open exposing one...</td>\n",
       "      <td>0.768916</td>\n",
       "      <td>0.780419</td>\n",
       "      <td>0.772973</td>\n",
       "      <td>0.782157</td>\n",
       "      <td>0.779820</td>\n",
       "      <td>0.793865</td>\n",
       "      <td>0.794668</td>\n",
       "      <td>0.780983</td>\n",
       "      <td>0.787238</td>\n",
       "      <td>...</td>\n",
       "      <td>0.805387</td>\n",
       "      <td>0.819452</td>\n",
       "      <td>0.814907</td>\n",
       "      <td>0.790211</td>\n",
       "      <td>0.801959</td>\n",
       "      <td>0.761341</td>\n",
       "      <td>0.777736</td>\n",
       "      <td>0.777638</td>\n",
       "      <td>0.780524</td>\n",
       "      <td>0.786606</td>\n",
       "    </tr>\n",
       "    <tr>\n",
       "      <th>1</th>\n",
       "      <td>blonde brunette redhead walking along beach se...</td>\n",
       "      <td>0.735404</td>\n",
       "      <td>0.761470</td>\n",
       "      <td>0.757716</td>\n",
       "      <td>0.767174</td>\n",
       "      <td>0.768464</td>\n",
       "      <td>0.785410</td>\n",
       "      <td>0.789437</td>\n",
       "      <td>0.775253</td>\n",
       "      <td>0.785369</td>\n",
       "      <td>...</td>\n",
       "      <td>0.771764</td>\n",
       "      <td>0.798279</td>\n",
       "      <td>0.782547</td>\n",
       "      <td>0.756935</td>\n",
       "      <td>0.771122</td>\n",
       "      <td>0.728684</td>\n",
       "      <td>0.753059</td>\n",
       "      <td>0.769201</td>\n",
       "      <td>0.768211</td>\n",
       "      <td>0.761647</td>\n",
       "    </tr>\n",
       "    <tr>\n",
       "      <th>2</th>\n",
       "      <td>blonde woman financial troubles decided kidnap...</td>\n",
       "      <td>0.813459</td>\n",
       "      <td>0.824281</td>\n",
       "      <td>0.816462</td>\n",
       "      <td>0.816263</td>\n",
       "      <td>0.820096</td>\n",
       "      <td>0.831758</td>\n",
       "      <td>0.840081</td>\n",
       "      <td>0.820179</td>\n",
       "      <td>0.830219</td>\n",
       "      <td>...</td>\n",
       "      <td>0.803248</td>\n",
       "      <td>0.827226</td>\n",
       "      <td>0.819045</td>\n",
       "      <td>0.802016</td>\n",
       "      <td>0.819393</td>\n",
       "      <td>0.773274</td>\n",
       "      <td>0.801880</td>\n",
       "      <td>0.789971</td>\n",
       "      <td>0.803356</td>\n",
       "      <td>0.812936</td>\n",
       "    </tr>\n",
       "    <tr>\n",
       "      <th>3</th>\n",
       "      <td>blonde near death experience day climbed top h...</td>\n",
       "      <td>0.806541</td>\n",
       "      <td>0.805204</td>\n",
       "      <td>0.788450</td>\n",
       "      <td>0.803720</td>\n",
       "      <td>0.804592</td>\n",
       "      <td>0.811490</td>\n",
       "      <td>0.814848</td>\n",
       "      <td>0.812040</td>\n",
       "      <td>0.840169</td>\n",
       "      <td>...</td>\n",
       "      <td>0.803359</td>\n",
       "      <td>0.822400</td>\n",
       "      <td>0.808613</td>\n",
       "      <td>0.789673</td>\n",
       "      <td>0.817771</td>\n",
       "      <td>0.777521</td>\n",
       "      <td>0.798096</td>\n",
       "      <td>0.792132</td>\n",
       "      <td>0.808071</td>\n",
       "      <td>0.810877</td>\n",
       "    </tr>\n",
       "    <tr>\n",
       "      <th>4</th>\n",
       "      <td>two blondes walking road one large sports bag ...</td>\n",
       "      <td>0.679027</td>\n",
       "      <td>0.715490</td>\n",
       "      <td>0.712649</td>\n",
       "      <td>0.697434</td>\n",
       "      <td>0.697006</td>\n",
       "      <td>0.717648</td>\n",
       "      <td>0.732784</td>\n",
       "      <td>0.703273</td>\n",
       "      <td>0.711509</td>\n",
       "      <td>...</td>\n",
       "      <td>0.657983</td>\n",
       "      <td>0.684555</td>\n",
       "      <td>0.667537</td>\n",
       "      <td>0.638647</td>\n",
       "      <td>0.659663</td>\n",
       "      <td>0.624299</td>\n",
       "      <td>0.652098</td>\n",
       "      <td>0.652411</td>\n",
       "      <td>0.662270</td>\n",
       "      <td>0.662195</td>\n",
       "    </tr>\n",
       "  </tbody>\n",
       "</table>\n",
       "<p>5 rows × 80898 columns</p>\n",
       "</div>"
      ],
      "text/plain": [
       "                               joke_spacy_vectorized         0         1  \\\n",
       "0  blonde walking street blouse open exposing one...  0.768916  0.780419   \n",
       "1  blonde brunette redhead walking along beach se...  0.735404  0.761470   \n",
       "2  blonde woman financial troubles decided kidnap...  0.813459  0.824281   \n",
       "3  blonde near death experience day climbed top h...  0.806541  0.805204   \n",
       "4  two blondes walking road one large sports bag ...  0.679027  0.715490   \n",
       "\n",
       "          2         3         4         5         6         7         8  \\\n",
       "0  0.772973  0.782157  0.779820  0.793865  0.794668  0.780983  0.787238   \n",
       "1  0.757716  0.767174  0.768464  0.785410  0.789437  0.775253  0.785369   \n",
       "2  0.816462  0.816263  0.820096  0.831758  0.840081  0.820179  0.830219   \n",
       "3  0.788450  0.803720  0.804592  0.811490  0.814848  0.812040  0.840169   \n",
       "4  0.712649  0.697434  0.697006  0.717648  0.732784  0.703273  0.711509   \n",
       "\n",
       "     ...        80887     80888     80889     80890     80891     80892  \\\n",
       "0    ...     0.805387  0.819452  0.814907  0.790211  0.801959  0.761341   \n",
       "1    ...     0.771764  0.798279  0.782547  0.756935  0.771122  0.728684   \n",
       "2    ...     0.803248  0.827226  0.819045  0.802016  0.819393  0.773274   \n",
       "3    ...     0.803359  0.822400  0.808613  0.789673  0.817771  0.777521   \n",
       "4    ...     0.657983  0.684555  0.667537  0.638647  0.659663  0.624299   \n",
       "\n",
       "      80893     80894     80895     80896  \n",
       "0  0.777736  0.777638  0.780524  0.786606  \n",
       "1  0.753059  0.769201  0.768211  0.761647  \n",
       "2  0.801880  0.789971  0.803356  0.812936  \n",
       "3  0.798096  0.792132  0.808071  0.810877  \n",
       "4  0.652098  0.652411  0.662270  0.662195  \n",
       "\n",
       "[5 rows x 80898 columns]"
      ]
     },
     "execution_count": 17,
     "metadata": {},
     "output_type": "execute_result"
    }
   ],
   "source": [
    "sim.head()"
   ]
  },
  {
   "cell_type": "markdown",
   "metadata": {},
   "source": [
    "### Find document with max value for each row"
   ]
  },
  {
   "cell_type": "code",
   "execution_count": 42,
   "metadata": {},
   "outputs": [],
   "source": [
    "most_similar_df = sim.drop('joke_spacy_vectorized', axis=1).idxmax(axis=1)\n",
    "similarity_scores = sim.drop('joke_spacy_vectorized', axis=1).max(axis=1)"
   ]
  },
  {
   "cell_type": "code",
   "execution_count": 56,
   "metadata": {},
   "outputs": [],
   "source": [
    "jokefile = '../data/jokes_6gram.csv'\n",
    "joke_df = pd.read_csv(jokefile, index_col=0)\n",
    "nonjokefile = '../data/movieplots_6gram.csv'\n",
    "nonjoke_df = pd.read_csv(nonjokefile, index_col=0)\n",
    "joke_df['most_similar_index'] = most_similar_df\n",
    "joke_df['similarity_score'] = similarity_scores\n",
    "joke_df['most_similar_plot_ngram'] = joke_df['most_similar_index'].apply(lambda x: nonjoke_df.loc[int(x), 'joke_ngram'])"
   ]
  },
  {
   "cell_type": "code",
   "execution_count": 44,
   "metadata": {},
   "outputs": [
    {
     "data": {
      "text/html": [
       "<div>\n",
       "<style scoped>\n",
       "    .dataframe tbody tr th:only-of-type {\n",
       "        vertical-align: middle;\n",
       "    }\n",
       "\n",
       "    .dataframe tbody tr th {\n",
       "        vertical-align: top;\n",
       "    }\n",
       "\n",
       "    .dataframe thead th {\n",
       "        text-align: right;\n",
       "    }\n",
       "</style>\n",
       "<table border=\"1\" class=\"dataframe\">\n",
       "  <thead>\n",
       "    <tr style=\"text-align: right;\">\n",
       "      <th></th>\n",
       "      <th>joke</th>\n",
       "      <th>most_similar_index</th>\n",
       "      <th>similarity_score</th>\n",
       "      <th>most_similar_plot_ngram</th>\n",
       "    </tr>\n",
       "  </thead>\n",
       "  <tbody>\n",
       "    <tr>\n",
       "      <th>0</th>\n",
       "      <td>A blonde is walking down the street with her ...</td>\n",
       "      <td>28453</td>\n",
       "      <td>0.889712</td>\n",
       "      <td>Finally, Sue walks down Hollywood Boulevard, a...</td>\n",
       "    </tr>\n",
       "    <tr>\n",
       "      <th>1</th>\n",
       "      <td>A blonde, a brunette and a redhead were walki...</td>\n",
       "      <td>28469</td>\n",
       "      <td>0.899478</td>\n",
       "      <td>The two women kiss, before Nikki fades away in...</td>\n",
       "    </tr>\n",
       "    <tr>\n",
       "      <th>2</th>\n",
       "      <td>There was a blonde woman who was having finan...</td>\n",
       "      <td>12180</td>\n",
       "      <td>0.933163</td>\n",
       "      <td>Basil then reveals that he can't go on the hei...</td>\n",
       "    </tr>\n",
       "    <tr>\n",
       "      <th>3</th>\n",
       "      <td>This blonde had a near death experience the o...</td>\n",
       "      <td>11772</td>\n",
       "      <td>0.931980</td>\n",
       "      <td>In one instance, she woke up screaming and her...</td>\n",
       "    </tr>\n",
       "    <tr>\n",
       "      <th>4</th>\n",
       "      <td>Two blondes are walking down a road, one has ...</td>\n",
       "      <td>31107</td>\n",
       "      <td>0.896209</td>\n",
       "      <td>The two steal a car (a 1996 Impala SS sedan) a...</td>\n",
       "    </tr>\n",
       "  </tbody>\n",
       "</table>\n",
       "</div>"
      ],
      "text/plain": [
       "                                                joke most_similar_index  \\\n",
       "0   A blonde is walking down the street with her ...              28453   \n",
       "1   A blonde, a brunette and a redhead were walki...              28469   \n",
       "2   There was a blonde woman who was having finan...              12180   \n",
       "3   This blonde had a near death experience the o...              11772   \n",
       "4   Two blondes are walking down a road, one has ...              31107   \n",
       "\n",
       "   similarity_score                            most_similar_plot_ngram  \n",
       "0          0.889712  Finally, Sue walks down Hollywood Boulevard, a...  \n",
       "1          0.899478  The two women kiss, before Nikki fades away in...  \n",
       "2          0.933163  Basil then reveals that he can't go on the hei...  \n",
       "3          0.931980  In one instance, she woke up screaming and her...  \n",
       "4          0.896209  The two steal a car (a 1996 Impala SS sedan) a...  "
      ]
     },
     "execution_count": 44,
     "metadata": {},
     "output_type": "execute_result"
    }
   ],
   "source": [
    "joke_df.head()"
   ]
  },
  {
   "cell_type": "code",
   "execution_count": 50,
   "metadata": {},
   "outputs": [
    {
     "name": "stdout",
     "output_type": "stream",
     "text": [
      " A director decides that he's going to make a movie based on the lives of famous classical composers. Looking for a prospective cast, he asks Sylvester Stallone which composer he would like to play in the movie. Stallone thinks for a moment and says, \"I like Mozart. Let me be Mozart.\" The director then turns to Arnold Schwarzenegger and asks him who he'd like to play. Arnold replies, \"I'll be Bach!\" \n",
      "---\n",
      "Tom is thrilled to meet Eddie and see inside his trailer and be on a film set, also to play the Xbox, since Tom doesn’t have one at his Pop's house. Eddie says that his mom doesn’t care how much he plays the Xbox in his spare time, because she is so busy. Tom tells Eddie how lucky he is, in comparison to him, but he's a friend of the former actor, Milles. Eddie doesn’t seem impressed by this, though, having never heard of Milles or other actors that Tom speaks about. Tom notices that Eddie doesn’t seem to appear that interested in acting, choosing to concentrate mainly on his Xbox that he's playing. Tom then spots Eddie's suit which he wears on screen in the 'Spy Teen' films and asks Eddie if he can try it on.\n"
     ]
    }
   ],
   "source": [
    "i = 800\n",
    "print(joke_df.loc[i, 'joke'])\n",
    "print('---')\n",
    "print(joke_df.loc[i, 'most_similar_plot_ngram'])"
   ]
  },
  {
   "cell_type": "code",
   "execution_count": 64,
   "metadata": {},
   "outputs": [],
   "source": [
    "outfile = '../data/joke_classifier_dataset.csv'\n",
    "joke_classifier_df = joke_df.copy()\n",
    "joke_classifier_df.drop(['most_similar_index', 'similarity_score'],axis=1, inplace=True)\n",
    "joke_classifier_df.columns = ['joke', 'nonjoke']\n",
    "joke_classifier_df.to_csv(outfile)"
   ]
  },
  {
   "cell_type": "code",
   "execution_count": 65,
   "metadata": {},
   "outputs": [
    {
     "data": {
      "text/plain": [
       "(1108, 2)"
      ]
     },
     "execution_count": 65,
     "metadata": {},
     "output_type": "execute_result"
    }
   ],
   "source": [
    "joke_classifier_df.shape"
   ]
  },
  {
   "cell_type": "code",
   "execution_count": null,
   "metadata": {},
   "outputs": [],
   "source": []
  }
 ],
 "metadata": {
  "kernelspec": {
   "display_name": "Python 3",
   "language": "python",
   "name": "python3"
  },
  "language_info": {
   "codemirror_mode": {
    "name": "ipython",
    "version": 3
   },
   "file_extension": ".py",
   "mimetype": "text/x-python",
   "name": "python",
   "nbconvert_exporter": "python",
   "pygments_lexer": "ipython3",
   "version": "3.6.4"
  }
 },
 "nbformat": 4,
 "nbformat_minor": 2
}
