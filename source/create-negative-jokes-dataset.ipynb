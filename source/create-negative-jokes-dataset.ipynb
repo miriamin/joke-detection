{
 "cells": [
  {
   "cell_type": "markdown",
   "metadata": {},
   "source": [
    "## Create a negative joke dataset\n",
    "\n",
    "To create a negative joke dataset, jokes will be transformed in a feature matrix of the joke text as word embeddings and other features."
   ]
  },
  {
   "cell_type": "code",
   "execution_count": 1,
   "metadata": {},
   "outputs": [],
   "source": [
    "import importlib\n",
    "import nojokes\n",
    "import prejokes\n",
    "from prejokes import JokePreprocessor\n",
    "import pandas as pd\n",
    "from sklearn.model_selection import train_test_split \n",
    "import statistics \n",
    "from statistics import mode\n",
    "import numpy as np\n",
    "import matplotlib.mlab as mlab\n",
    "import matplotlib.pyplot as plt\n",
    "from matplotlib.pyplot import figure\n",
    "from nltk.tokenize import sent_tokenize\n",
    "%matplotlib inline  "
   ]
  },
  {
   "cell_type": "markdown",
   "metadata": {},
   "source": [
    "## Characteristics and requirements of the negative jokes\n",
    "\n",
    "The negative jokes should be similar to the real jokes regarding the following features:\n",
    "* style (narrative, fictional)\n",
    "* length (number of sentences)\n",
    "* vocabulary \n",
    "* syntactic features (word classes etc.)  \n",
    "\n",
    "#### Style\n",
    "In order to collect texts that follow a certain narrative structure, the negative jokes will be drawn from a dataset of American movie plots from Wikipedia.  \n",
    "\n",
    "\n",
    "#### Length\n",
    "The movie plots in the dataset are longer than a single joke. To encounter this issue, the following methodology will be applied:\n",
    "1. Find the average length (number of sentences) in the jokes dataset.\n",
    "2. Split the movie plot dataset into sentence n-grams according to the determined length\n"
   ]
  },
  {
   "cell_type": "code",
   "execution_count": null,
   "metadata": {},
   "outputs": [],
   "source": [
    "importlib.reload(prejokes)"
   ]
  },
  {
   "cell_type": "code",
   "execution_count": 2,
   "metadata": {},
   "outputs": [],
   "source": [
    "jokes_file = '../data/s3_curated_jokes.csv'\n",
    "jp = JokePreprocessor()\n",
    "joke_df = jp.load(jokes_file)\n"
   ]
  },
  {
   "cell_type": "code",
   "execution_count": 3,
   "metadata": {},
   "outputs": [
    {
     "data": {
      "image/png": "[encoded data removed]",
      "text/plain": [
       "<matplotlib.figure.Figure at 0x1a1d16def0>"
      ]
     },
     "metadata": {},
     "output_type": "display_data"
    }
   ],
   "source": [
    "joke_df['Sentence_count'] = joke_df['Joke'].apply(lambda x: jp.count_sentences(x))\n",
    "sen_count = list(joke_df['Sentence_count'])\n",
    "num_bins = len(set(sen_count))\n",
    "#plt.figure(figsize=(100,100))\n",
    "n, bins, patches = plt.hist(sen_count, num_bins, facecolor='blue', alpha=0.5)\n",
    "#n, bins, patches = plt.hist(sen_count, num_bins, facecolor='blue', alpha=0.5, normed=1)\n",
    "plt.xlabel('Number of sentences in Joke')\n",
    "plt.ylabel('Frequency')\n",
    "plt.title('Histogram of Number of sentences in jokes')\n",
    "plt.axis([0, 50, 0, 15000])\n",
    "plt.grid(True)\n",
    "\n",
    "plt.show()\n"
   ]
  },
  {
   "cell_type": "markdown",
   "metadata": {},
   "source": [
    "#### Average length and median"
   ]
  },
  {
   "cell_type": "code",
   "execution_count": 4,
   "metadata": {},
   "outputs": [
    {
     "name": "stdout",
     "output_type": "stream",
     "text": [
      "Mean: 7.106599697938253\n",
      "Median: 3.0\n"
     ]
    }
   ],
   "source": [
    "mean = joke_df['Sentence_count'].mean()\n",
    "median = joke_df['Sentence_count'].median()\n",
    "\n",
    "print('Mean: ' + str(mean))\n",
    "print('Median: ' + str(median))"
   ]
  },
  {
   "cell_type": "markdown",
   "metadata": {},
   "source": [
    "#### Split movie plot data into sentence n-grams"
   ]
  },
  {
   "cell_type": "code",
   "execution_count": null,
   "metadata": {},
   "outputs": [],
   "source": [
    "jp = JokePreprocessor()\n",
    "importlib.reload(nojokes)"
   ]
  },
  {
   "cell_type": "code",
   "execution_count": 5,
   "metadata": {},
   "outputs": [],
   "source": [
    "movieplots_file = '../data/plotdata.txt'\n",
    "with open(movieplots_file) as file:\n",
    "    movieplots = file.read().strip().split('\\n\\n\\n\\n\\n\\n')\n",
    "plot_df = pd.DataFrame(movieplots)\n",
    "plot_df.columns = ['plot']\n",
    "plot_df = jp.sentence_n_grams_split(plot_df, 'plot', 6)"
   ]
  },
  {
   "cell_type": "code",
   "execution_count": 8,
   "metadata": {},
   "outputs": [],
   "source": [
    "# this df holds all sentence ngrams\n",
    "outfile = '../data/movieplots_6gram.csv'\n",
    "plot_df.to_csv(outfile)"
   ]
  },
  {
   "cell_type": "code",
   "execution_count": null,
   "metadata": {},
   "outputs": [],
   "source": [
    "df = nojokes.mysql_import('eng_wikipedia_2016_1M','sentences')\n",
    "df= df.drop([0], axis = 1)\n",
    "df = df.rename(columns={1:'sentence'})\n",
    "df = jp.remove_punctuation(df, 'sentence')\n",
    "df = jp.replace_numbers(df, 'sentence')\n",
    "df = jp.clean_and_tokenize(df, 'sentence')\n",
    "df.to_csv(out_file)"
   ]
  },
  {
   "cell_type": "code",
   "execution_count": null,
   "metadata": {},
   "outputs": [],
   "source": [
    "df = pd.from_csv(tokens_file)"
   ]
  },
  {
   "cell_type": "markdown",
   "metadata": {},
   "source": [
    "#### Filter jokes by number of sentences"
   ]
  },
  {
   "cell_type": "code",
   "execution_count": 17,
   "metadata": {},
   "outputs": [],
   "source": [
    "outfile = '../data/jokes_6gram.csv'\n",
    "filtered_jokes = jp.filter_by_joke_len(joke_df, 'Sentence_count', 6)\n",
    "# this df holds all joke ngrams\n",
    "filtered_jokes = filtered_jokes['Joke'].reset_index(drop=True)\n",
    "filtered_jokes.to_csv(outfile)"
   ]
  },
  {
   "cell_type": "code",
   "execution_count": null,
   "metadata": {},
   "outputs": [],
   "source": []
  },
  {
   "cell_type": "markdown",
   "metadata": {},
   "source": [
    "# Calculate Similarities"
   ]
  },
  {
   "cell_type": "code",
   "execution_count": null,
   "metadata": {},
   "outputs": [],
   "source": [
    "import spacy\n",
    "# to install the english model, run\n",
    "# python -m spacy download en"
   ]
  },
  {
   "cell_type": "code",
   "execution_count": null,
   "metadata": {},
   "outputs": [],
   "source": [
    "joke1 = filtered_jokes['Joke'][11]\n",
    "joke1=nlp(joke1)"
   ]
  },
  {
   "cell_type": "code",
   "execution_count": null,
   "metadata": {},
   "outputs": [],
   "source": [
    "nlp = spacy.load('en')"
   ]
  },
  {
   "cell_type": "code",
   "execution_count": null,
   "metadata": {},
   "outputs": [],
   "source": [
    "similarity_df = plot_df\n",
    "similarity_df['Vector'] = similarity_df['joke_ngram'].apply(lambda x: nlp(x))\n"
   ]
  },
  {
   "cell_type": "code",
   "execution_count": null,
   "metadata": {},
   "outputs": [],
   "source": [
    "similarity_df['Joke1_sim'] = similarity_df['Vector'].apply(lambda x: x.similarity(joke1))"
   ]
  },
  {
   "cell_type": "code",
   "execution_count": null,
   "metadata": {},
   "outputs": [],
   "source": [
    "max_value = similarity_df['Joke1_sim'].values.argmax()\n",
    "most_similar_text = similarity_df['joke_ngram'][max_value]\n",
    "most_similar_text"
   ]
  },
  {
   "cell_type": "code",
   "execution_count": null,
   "metadata": {},
   "outputs": [],
   "source": [
    "joke1"
   ]
  },
  {
   "cell_type": "code",
   "execution_count": null,
   "metadata": {},
   "outputs": [],
   "source": []
  }
 ],
 "metadata": {
  "kernelspec": {
   "display_name": "Python 3",
   "language": "python",
   "name": "python3"
  },
  "language_info": {
   "codemirror_mode": {
    "name": "ipython",
    "version": 3
   },
   "file_extension": ".py",
   "mimetype": "text/x-python",
   "name": "python",
   "nbconvert_exporter": "python",
   "pygments_lexer": "ipython3",
   "version": "3.6.4"
  }
 },
 "nbformat": 4,
 "nbformat_minor": 2
}
