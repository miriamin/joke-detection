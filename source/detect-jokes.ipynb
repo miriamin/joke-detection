{
 "cells": [
  {
   "cell_type": "markdown",
   "metadata": {},
   "source": [
    "## Joke classificaion with logistic regression, a multilayer perceptron and a convolutional neural network.\n",
    "\n",
    "For the task of joke detection, I trained three different classifiers using different models:\n",
    "\n",
    "1. [Logistic Regression](#log_model)\n",
    "2. [Feed Forward Neural Network](#mlp_model)\n",
    "3. [Convoluational Neural Network](#convnet)\n",
    "\n",
    "[After training, the models will be tested on known and unknown datasets.](#testing)"
   ]
  },
  {
   "cell_type": "code",
   "execution_count": 1,
   "metadata": {
    "collapsed": true
   },
   "outputs": [
    {
     "name": "stderr",
     "output_type": "stream",
     "text": [
      "/Users/miriamamin/anaconda3/lib/python3.6/site-packages/sklearn/ensemble/weight_boosting.py:29: DeprecationWarning: numpy.core.umath_tests is an internal NumPy module and should not be imported. It will be removed in a future NumPy release.\n",
      "  from numpy.core.umath_tests import inner1d\n",
      "/Users/miriamamin/anaconda3/lib/python3.6/site-packages/h5py/__init__.py:36: FutureWarning: Conversion of the second argument of issubdtype from `float` to `np.floating` is deprecated. In future, it will be treated as `np.float64 == np.dtype(float).type`.\n",
      "  from ._conv import register_converters as _register_converters\n",
      "Using TensorFlow backend.\n",
      "/Users/miriamamin/anaconda3/lib/python3.6/site-packages/tensorflow/python/framework/dtypes.py:523: FutureWarning: Passing (type, 1) or '1type' as a synonym of type is deprecated; in a future version of numpy, it will be understood as (type, (1,)) / '(1,)type'.\n",
      "  _np_qint8 = np.dtype([(\"qint8\", np.int8, 1)])\n",
      "/Users/miriamamin/anaconda3/lib/python3.6/site-packages/tensorflow/python/framework/dtypes.py:524: FutureWarning: Passing (type, 1) or '1type' as a synonym of type is deprecated; in a future version of numpy, it will be understood as (type, (1,)) / '(1,)type'.\n",
      "  _np_quint8 = np.dtype([(\"quint8\", np.uint8, 1)])\n",
      "/Users/miriamamin/anaconda3/lib/python3.6/site-packages/tensorflow/python/framework/dtypes.py:525: FutureWarning: Passing (type, 1) or '1type' as a synonym of type is deprecated; in a future version of numpy, it will be understood as (type, (1,)) / '(1,)type'.\n",
      "  _np_qint16 = np.dtype([(\"qint16\", np.int16, 1)])\n",
      "/Users/miriamamin/anaconda3/lib/python3.6/site-packages/tensorflow/python/framework/dtypes.py:526: FutureWarning: Passing (type, 1) or '1type' as a synonym of type is deprecated; in a future version of numpy, it will be understood as (type, (1,)) / '(1,)type'.\n",
      "  _np_quint16 = np.dtype([(\"quint16\", np.uint16, 1)])\n",
      "/Users/miriamamin/anaconda3/lib/python3.6/site-packages/tensorflow/python/framework/dtypes.py:527: FutureWarning: Passing (type, 1) or '1type' as a synonym of type is deprecated; in a future version of numpy, it will be understood as (type, (1,)) / '(1,)type'.\n",
      "  _np_qint32 = np.dtype([(\"qint32\", np.int32, 1)])\n",
      "/Users/miriamamin/anaconda3/lib/python3.6/site-packages/tensorflow/python/framework/dtypes.py:532: FutureWarning: Passing (type, 1) or '1type' as a synonym of type is deprecated; in a future version of numpy, it will be understood as (type, (1,)) / '(1,)type'.\n",
      "  np_resource = np.dtype([(\"resource\", np.ubyte, 1)])\n"
     ]
    }
   ],
   "source": [
    "from sklearn import model_selection, preprocessing, linear_model, naive_bayes, metrics, svm\n",
    "from sklearn.feature_extraction.text import TfidfVectorizer, CountVectorizer\n",
    "from sklearn import decomposition, ensemble\n",
    "from sklearn.model_selection import train_test_split\n",
    "\n",
    "import xgboost, numpy, textblob, string\n",
    "import pandas as pd\n",
    "from keras.preprocessing import text, sequence\n",
    "from keras import layers, models, optimizers\n",
    "\n",
    "import prejokes"
   ]
  },
  {
   "cell_type": "markdown",
   "metadata": {},
   "source": [
    "### Dataset preparation"
   ]
  },
  {
   "cell_type": "markdown",
   "metadata": {},
   "source": [
    "The Dataset produced in the previous step does not have the required form yet. it currently looks like this:"
   ]
  },
  {
   "cell_type": "code",
   "execution_count": 2,
   "metadata": {},
   "outputs": [
    {
     "data": {
      "text/html": [
       "<div>\n",
       "<style scoped>\n",
       "    .dataframe tbody tr th:only-of-type {\n",
       "        vertical-align: middle;\n",
       "    }\n",
       "\n",
       "    .dataframe tbody tr th {\n",
       "        vertical-align: top;\n",
       "    }\n",
       "\n",
       "    .dataframe thead th {\n",
       "        text-align: right;\n",
       "    }\n",
       "</style>\n",
       "<table border=\"1\" class=\"dataframe\">\n",
       "  <thead>\n",
       "    <tr style=\"text-align: right;\">\n",
       "      <th></th>\n",
       "      <th>joke</th>\n",
       "      <th>nonjoke</th>\n",
       "    </tr>\n",
       "  </thead>\n",
       "  <tbody>\n",
       "    <tr>\n",
       "      <th>0</th>\n",
       "      <td>A blonde is walking down the street with her ...</td>\n",
       "      <td>Finally, Sue walks down Hollywood Boulevard, a...</td>\n",
       "    </tr>\n",
       "    <tr>\n",
       "      <th>1</th>\n",
       "      <td>A blonde, a brunette and a redhead were walki...</td>\n",
       "      <td>The two women kiss, before Nikki fades away in...</td>\n",
       "    </tr>\n",
       "    <tr>\n",
       "      <th>2</th>\n",
       "      <td>There was a blonde woman who was having finan...</td>\n",
       "      <td>Basil then reveals that he can't go on the hei...</td>\n",
       "    </tr>\n",
       "    <tr>\n",
       "      <th>3</th>\n",
       "      <td>This blonde had a near death experience the o...</td>\n",
       "      <td>In one instance, she woke up screaming and her...</td>\n",
       "    </tr>\n",
       "    <tr>\n",
       "      <th>4</th>\n",
       "      <td>Two blondes are walking down a road, one has ...</td>\n",
       "      <td>The two steal a car (a 1996 Impala SS sedan) a...</td>\n",
       "    </tr>\n",
       "  </tbody>\n",
       "</table>\n",
       "</div>"
      ],
      "text/plain": [
       "                                                joke  \\\n",
       "0   A blonde is walking down the street with her ...   \n",
       "1   A blonde, a brunette and a redhead were walki...   \n",
       "2   There was a blonde woman who was having finan...   \n",
       "3   This blonde had a near death experience the o...   \n",
       "4   Two blondes are walking down a road, one has ...   \n",
       "\n",
       "                                             nonjoke  \n",
       "0  Finally, Sue walks down Hollywood Boulevard, a...  \n",
       "1  The two women kiss, before Nikki fades away in...  \n",
       "2  Basil then reveals that he can't go on the hei...  \n",
       "3  In one instance, she woke up screaming and her...  \n",
       "4  The two steal a car (a 1996 Impala SS sedan) a...  "
      ]
     },
     "execution_count": 2,
     "metadata": {},
     "output_type": "execute_result"
    }
   ],
   "source": [
    "infile = '../data/joke_classifier_dataset.csv'\n",
    "joke_df = pd.read_csv(infile, index_col=0)\n",
    "joke_df.head()"
   ]
  },
  {
   "cell_type": "markdown",
   "metadata": {},
   "source": [
    "For training the classifier, I need a dataframe with the two columns `target` and `label`. The label indicated wheather a text is a joke or not. \n",
    "\n",
    "`1` means joke and `0`means no joke"
   ]
  },
  {
   "cell_type": "code",
   "execution_count": 4,
   "metadata": {},
   "outputs": [
    {
     "data": {
      "text/html": [
       "<div>\n",
       "<style scoped>\n",
       "    .dataframe tbody tr th:only-of-type {\n",
       "        vertical-align: middle;\n",
       "    }\n",
       "\n",
       "    .dataframe tbody tr th {\n",
       "        vertical-align: top;\n",
       "    }\n",
       "\n",
       "    .dataframe thead th {\n",
       "        text-align: right;\n",
       "    }\n",
       "</style>\n",
       "<table border=\"1\" class=\"dataframe\">\n",
       "  <thead>\n",
       "    <tr style=\"text-align: right;\">\n",
       "      <th></th>\n",
       "      <th>text</th>\n",
       "      <th>label</th>\n",
       "    </tr>\n",
       "  </thead>\n",
       "  <tbody>\n",
       "    <tr>\n",
       "      <th>606</th>\n",
       "      <td>\"Michael Vick shouldn't go to jail for dog fi...</td>\n",
       "      <td>1</td>\n",
       "    </tr>\n",
       "    <tr>\n",
       "      <th>299</th>\n",
       "      <td>Joseph Crone wakes in his hotel room on Novemb...</td>\n",
       "      <td>0</td>\n",
       "    </tr>\n",
       "    <tr>\n",
       "      <th>209</th>\n",
       "      <td>A man and a friend are playing golf one day a...</td>\n",
       "      <td>1</td>\n",
       "    </tr>\n",
       "    <tr>\n",
       "      <th>130</th>\n",
       "      <td>Whip, unable to bring himself to blame Trina f...</td>\n",
       "      <td>0</td>\n",
       "    </tr>\n",
       "    <tr>\n",
       "      <th>327</th>\n",
       "      <td>Three ants went to the beach to swim.\\nTwo ju...</td>\n",
       "      <td>1</td>\n",
       "    </tr>\n",
       "    <tr>\n",
       "      <th>965</th>\n",
       "      <td>David has also been praying to the \"God of gre...</td>\n",
       "      <td>0</td>\n",
       "    </tr>\n",
       "    <tr>\n",
       "      <th>728</th>\n",
       "      <td>The team, including the coach, are against it,...</td>\n",
       "      <td>0</td>\n",
       "    </tr>\n",
       "    <tr>\n",
       "      <th>352</th>\n",
       "      <td>You have more than three first names.\\n \\nYou...</td>\n",
       "      <td>1</td>\n",
       "    </tr>\n",
       "    <tr>\n",
       "      <th>34</th>\n",
       "      <td>A mother took her little boy to church. \\nWhi...</td>\n",
       "      <td>1</td>\n",
       "    </tr>\n",
       "    <tr>\n",
       "      <th>334</th>\n",
       "      <td>A blonde walked into the pet store and, after...</td>\n",
       "      <td>1</td>\n",
       "    </tr>\n",
       "  </tbody>\n",
       "</table>\n",
       "</div>"
      ],
      "text/plain": [
       "                                                  text  label\n",
       "606   \"Michael Vick shouldn't go to jail for dog fi...      1\n",
       "299  Joseph Crone wakes in his hotel room on Novemb...      0\n",
       "209   A man and a friend are playing golf one day a...      1\n",
       "130  Whip, unable to bring himself to blame Trina f...      0\n",
       "327   Three ants went to the beach to swim.\\nTwo ju...      1\n",
       "965  David has also been praying to the \"God of gre...      0\n",
       "728  The team, including the coach, are against it,...      0\n",
       "352   You have more than three first names.\\n \\nYou...      1\n",
       "34    A mother took her little boy to church. \\nWhi...      1\n",
       "334   A blonde walked into the pet store and, after...      1"
      ]
     },
     "execution_count": 4,
     "metadata": {},
     "output_type": "execute_result"
    }
   ],
   "source": [
    "pj = prejokes.JokePreprocessor()\n",
    "jokes = joke_df.copy()\n",
    "jokes.drop('nonjoke',axis=1, inplace=True)\n",
    "jokes = pj.add_labels(jokes, 1)\n",
    "nojokes = joke_df.copy()\n",
    "nojokes.drop('joke',axis=1, inplace=True)\n",
    "nojokes = pj.add_labels(nojokes, 0)\n",
    "dataset = pj.merge_and_shuffle([jokes,nojokes])\n",
    "dataset.to_csv('../data/joke_nonjoke_dataset.csv')\n",
    "dataset.head(10)\n"
   ]
  },
  {
   "cell_type": "markdown",
   "metadata": {},
   "source": [
    "The dataset now has the following dimensions:"
   ]
  },
  {
   "cell_type": "code",
   "execution_count": 5,
   "metadata": {},
   "outputs": [
    {
     "name": "stdout",
     "output_type": "stream",
     "text": [
      "(2216, 2)\n"
     ]
    }
   ],
   "source": [
    "print(dataset.shape)\n"
   ]
  },
  {
   "cell_type": "markdown",
   "metadata": {},
   "source": [
    "### Logistic regression\n",
    "\n",
    "<a id='log_model'></a>"
   ]
  },
  {
   "cell_type": "markdown",
   "metadata": {},
   "source": [
    "For training, I split the entire joke dataset into test and training datasets "
   ]
  },
  {
   "cell_type": "code",
   "execution_count": 6,
   "metadata": {},
   "outputs": [],
   "source": [
    "sentences = dataset['text'].values\n",
    "y = dataset['label'].values\n",
    "sentences_train, sentences_test, y_train, y_test = train_test_split(sentences, y, test_size=0.25, random_state=1000)"
   ]
  },
  {
   "cell_type": "markdown",
   "metadata": {},
   "source": [
    "The feature vectors for the model are created by vectorizing the tokens with CountVectorizer.\n",
    "CountVectorizer replaces the document by a vocabulary-sized vector where each value of the vector represents the frequency of the respective vocabulary item in the document.\n",
    "Punctuation and other special characters are removed. "
   ]
  },
  {
   "cell_type": "code",
   "execution_count": 8,
   "metadata": {},
   "outputs": [],
   "source": [
    "vectorizer = CountVectorizer()\n",
    "vectorizer.fit(sentences_train)\n",
    "\n",
    "X_train = vectorizer.transform(sentences_train)\n",
    "X_test  = vectorizer.transform(sentences_test)"
   ]
  },
  {
   "cell_type": "markdown",
   "metadata": {},
   "source": [
    "After feature engineering, the model is fit on the data. "
   ]
  },
  {
   "cell_type": "code",
   "execution_count": 25,
   "metadata": {},
   "outputs": [
    {
     "name": "stdout",
     "output_type": "stream",
     "text": [
      "Accuracy: 0.9927797833935018\n"
     ]
    }
   ],
   "source": [
    "from sklearn.linear_model import LogisticRegression\n",
    "\n",
    "logistic_classifier = LogisticRegression()\n",
    "logistic_classifier.fit(X_train, y_train)\n",
    "score = logistic_classifier.score(X_test, y_test)\n",
    "print(\"Accuracy:\", score)\n"
   ]
  },
  {
   "cell_type": "markdown",
   "metadata": {},
   "source": [
    "The classifier yields a mean accuracy of 99.2 % on the given test data and labels."
   ]
  },
  {
   "cell_type": "markdown",
   "metadata": {},
   "source": [
    "### Multilayer Perceptron  Model <a id='mlp_model'></a>\n",
    "The second model is a simple feedforward multilayer perceptron with. It consists of two densely conntected neural network layers. This model reuses the count-vectorized dataset from the logistic model."
   ]
  },
  {
   "cell_type": "code",
   "execution_count": 12,
   "metadata": {},
   "outputs": [
    {
     "name": "stdout",
     "output_type": "stream",
     "text": [
      "_________________________________________________________________\n",
      "Layer (type)                 Output Shape              Param #   \n",
      "=================================================================\n",
      "dense_1 (Dense)              (None, 10)                117950    \n",
      "_________________________________________________________________\n",
      "dense_2 (Dense)              (None, 1)                 11        \n",
      "=================================================================\n",
      "Total params: 117,961\n",
      "Trainable params: 117,961\n",
      "Non-trainable params: 0\n",
      "_________________________________________________________________\n"
     ]
    }
   ],
   "source": [
    "from keras.models import Sequential\n",
    "from keras import layers\n",
    "\n",
    "input_dim = X_train.shape[1]  # Number of features\n",
    "\n",
    "seq_model = Sequential()\n",
    "seq_model.add(layers.Dense(10, input_dim=input_dim, activation='relu'))\n",
    "seq_model.add(layers.Dense(1, activation='sigmoid'))\n",
    "\n",
    "seq_model.compile(loss='binary_crossentropy', optimizer='adam', metrics=['accuracy'])\n",
    "seq_model.summary()"
   ]
  },
  {
   "cell_type": "code",
   "execution_count": 18,
   "metadata": {},
   "outputs": [],
   "source": [
    "history = seq_model.fit(X_train, y_train,epochs=5,verbose=False,validation_data=(X_test, y_test),batch_size=10)"
   ]
  },
  {
   "cell_type": "code",
   "execution_count": 19,
   "metadata": {
    "scrolled": false
   },
   "outputs": [
    {
     "name": "stdout",
     "output_type": "stream",
     "text": [
      "Training Accuracy: 1.0000\n",
      "Testing Accuracy:  0.9892\n"
     ]
    }
   ],
   "source": [
    "loss, accuracy = seq_model.evaluate(X_train, y_train, verbose=False)\n",
    "print(\"Training Accuracy: {:.4f}\".format(accuracy))\n",
    "loss, accuracy = seq_model.evaluate(X_test, y_test, verbose=False)\n",
    "print(\"Testing Accuracy:  {:.4f}\".format(accuracy))"
   ]
  },
  {
   "cell_type": "code",
   "execution_count": 20,
   "metadata": {},
   "outputs": [],
   "source": [
    "import matplotlib.pyplot as plt\n",
    "plt.style.use('ggplot')\n",
    "\n",
    "def plot_history(history):\n",
    "    acc = history.history['acc']\n",
    "    val_acc = history.history['val_acc']\n",
    "    loss = history.history['loss']\n",
    "    val_loss = history.history['val_loss']\n",
    "    x = range(1, len(acc) + 1)\n",
    "\n",
    "    plt.figure(figsize=(12, 5))\n",
    "    plt.subplot(1, 2, 1)\n",
    "    plt.plot(x, acc, 'b', label='Training acc')\n",
    "    plt.plot(x, val_acc, 'r', label='Validation acc')\n",
    "    plt.title('Training and validation accuracy')\n",
    "    plt.legend()\n",
    "    plt.subplot(1, 2, 2)\n",
    "    plt.plot(x, loss, 'b', label='Training loss')\n",
    "    plt.plot(x, val_loss, 'r', label='Validation loss')\n",
    "    plt.title('Training and validation loss')\n",
    "    plt.legend()"
   ]
  },
  {
   "cell_type": "markdown",
   "metadata": {},
   "source": [
    "After training the model for five epochs, training and validation accuracy are satisfactory. The validation loss curve implies that further training would lead to an increase and consequently to overfitting."
   ]
  },
  {
   "cell_type": "code",
   "execution_count": 22,
   "metadata": {},
   "outputs": [
    {
     "data": {
      "image/png": "[encoded data removed]",
      "text/plain": [
       "<matplotlib.figure.Figure at 0x1a4416c0f0>"
      ]
     },
     "metadata": {},
     "output_type": "display_data"
    }
   ],
   "source": [
    "plot_history(history)"
   ]
  },
  {
   "cell_type": "markdown",
   "metadata": {},
   "source": [
    "### Testing the Models <a id='testing'></a>"
   ]
  },
  {
   "cell_type": "code",
   "execution_count": 131,
   "metadata": {},
   "outputs": [],
   "source": [
    "def lr_predict_joke(text, vectorizer, model):\n",
    "    text=vectorizer.transform([text])\n",
    "    prediction = model.predict(text)\n",
    "    return prediction[0]\n",
    "\n",
    "def mlp_predict_joke(text, vectorizer, model):\n",
    "    text=vectorizer.transform([text])\n",
    "    prediction = model.predict(text)\n",
    "    output = 1 if prediction > 0.5 else 0\n",
    "    return output"
   ]
  },
  {
   "cell_type": "markdown",
   "metadata": {},
   "source": [
    "To understand the classifiers better, I have look at the mistakes the three classifiers prouduce on the training data."
   ]
  },
  {
   "cell_type": "code",
   "execution_count": 133,
   "metadata": {},
   "outputs": [
    {
     "data": {
      "text/html": [
       "<div>\n",
       "<style scoped>\n",
       "    .dataframe tbody tr th:only-of-type {\n",
       "        vertical-align: middle;\n",
       "    }\n",
       "\n",
       "    .dataframe tbody tr th {\n",
       "        vertical-align: top;\n",
       "    }\n",
       "\n",
       "    .dataframe thead th {\n",
       "        text-align: right;\n",
       "    }\n",
       "</style>\n",
       "<table border=\"1\" class=\"dataframe\">\n",
       "  <thead>\n",
       "    <tr style=\"text-align: right;\">\n",
       "      <th></th>\n",
       "      <th>text</th>\n",
       "      <th>label</th>\n",
       "      <th>logistic_regression</th>\n",
       "      <th>multilayer_perceptron</th>\n",
       "    </tr>\n",
       "  </thead>\n",
       "  <tbody>\n",
       "    <tr>\n",
       "      <th>901</th>\n",
       "      <td>eer booze and fun!' 'At the end of the night ...</td>\n",
       "      <td>1</td>\n",
       "      <td>0</td>\n",
       "      <td>0</td>\n",
       "    </tr>\n",
       "    <tr>\n",
       "      <th>898</th>\n",
       "      <td>Jack is told by the judge that releasing the i...</td>\n",
       "      <td>0</td>\n",
       "      <td>0</td>\n",
       "      <td>1</td>\n",
       "    </tr>\n",
       "    <tr>\n",
       "      <th>118</th>\n",
       "      <td>He is reunited with his family and all the peo...</td>\n",
       "      <td>0</td>\n",
       "      <td>0</td>\n",
       "      <td>1</td>\n",
       "    </tr>\n",
       "    <tr>\n",
       "      <th>271</th>\n",
       "      <td>1) A person belonging to an ethnic group whos...</td>\n",
       "      <td>1</td>\n",
       "      <td>0</td>\n",
       "      <td>0</td>\n",
       "    </tr>\n",
       "    <tr>\n",
       "      <th>388</th>\n",
       "      <td>Jack is told by the judge that releasing the i...</td>\n",
       "      <td>0</td>\n",
       "      <td>0</td>\n",
       "      <td>1</td>\n",
       "    </tr>\n",
       "    <tr>\n",
       "      <th>665</th>\n",
       "      <td>Attempting to enter a case-sensitive password...</td>\n",
       "      <td>1</td>\n",
       "      <td>0</td>\n",
       "      <td>0</td>\n",
       "    </tr>\n",
       "    <tr>\n",
       "      <th>864</th>\n",
       "      <td>During the days in Vegas, they get to know eac...</td>\n",
       "      <td>0</td>\n",
       "      <td>1</td>\n",
       "      <td>0</td>\n",
       "    </tr>\n",
       "  </tbody>\n",
       "</table>\n",
       "</div>"
      ],
      "text/plain": [
       "                                                  text  label  \\\n",
       "901   eer booze and fun!' 'At the end of the night ...      1   \n",
       "898  Jack is told by the judge that releasing the i...      0   \n",
       "118  He is reunited with his family and all the peo...      0   \n",
       "271   1) A person belonging to an ethnic group whos...      1   \n",
       "388  Jack is told by the judge that releasing the i...      0   \n",
       "665   Attempting to enter a case-sensitive password...      1   \n",
       "864  During the days in Vegas, they get to know eac...      0   \n",
       "\n",
       "     logistic_regression  multilayer_perceptron  \n",
       "901                    0                      0  \n",
       "898                    0                      1  \n",
       "118                    0                      1  \n",
       "271                    0                      0  \n",
       "388                    0                      1  \n",
       "665                    0                      0  \n",
       "864                    1                      0  "
      ]
     },
     "execution_count": 133,
     "metadata": {},
     "output_type": "execute_result"
    }
   ],
   "source": [
    "predictions = pd.read_csv('../data/joke_nonjoke_dataset.csv', index_col=0)\n",
    "predictions['logistic_regression'] = predictions['text'].apply(lambda x: lr_predict_joke(x, vectorizer, logistic_classifier))\n",
    "predictions['multilayer_perceptron'] = predictions['text'].apply(lambda x: mlp_predict_joke(x, vectorizer, seq_model))\n",
    "\n",
    "fails = predictions.loc[(predictions['label'] != predictions['logistic_regression']) | \n",
    "                        (predictions['label'] != predictions['multilayer_perceptron'])]\n",
    "\n",
    "fails"
   ]
  },
  {
   "cell_type": "markdown",
   "metadata": {},
   "source": [
    "Apparently, all three models produce the same mistake by classifxing the same documents incorrectly.\n",
    "<br>\n",
    "<br>\n",
    "These are the jokes that were not recognized as jokes:"
   ]
  },
  {
   "cell_type": "code",
   "execution_count": 134,
   "metadata": {},
   "outputs": [
    {
     "name": "stdout",
     "output_type": "stream",
     "text": [
      " eer booze and fun!' 'At the end of the night a man leaves the bar. Outside he sees a nun. He walks over to her and slaps her in the face. Then he punches her in the stomach and knocks her over.  He proceeds to kick her several times and when he's done he bends down to her and says \"not so tough tonight are you Batman?\" \n",
      "----------\n",
      " 1) A person belonging to an ethnic group whose members are commonly considered to have certain stereotypical mannerisms met another person belonging to a different ethnic group with a different set of imputed stereotypical mannerisms. The first person acted in a manner consistent\n",
      "with the stereotypes associated with his ethnic group, and proceeded to make a remark which might be considered to establish conclusively his membership in that group, whereupon his companion proceeded to make a remark with a double meaning, the first meaning of which could be\n",
      "interpreted to indicate his agreement with his companion, but the other meaning of which serves to corroborate his membership in his particular ethnic group. The first person took offense at his remark, and reacted in a stereotypical way!\n",
      "\n",
      "(2) Q: How many people belonging to a certain ethnic group does it take to perform a particular menial activity?\n",
      "\n",
      "A: A finite positive integer. One to perform the activity, and the rest to behave in a manner stereotypical of their ethnic group! \n",
      "----------\n",
      " Attempting to enter a case-sensitive password with caps-lock on. \n",
      "Not checking to ensure that the computer is indeed plugged in. \n",
      "Clicking Yes on message boxes without reading them properly and deleting important files. \n",
      "Forgetting to plug an ethernet cable into their laptop's network card when in the office. \n",
      "Allowing sessions to timeout when using a web application. \n",
      "Erroneous data entry. \n",
      "----------\n"
     ]
    }
   ],
   "source": [
    "first_kind_mistakes = fails.loc[fails['label'] == 1]\n",
    "for text in first_kind_mistakes['text']:\n",
    "    print(text + '\\n' + '-'*10)"
   ]
  },
  {
   "cell_type": "markdown",
   "metadata": {},
   "source": [
    "These jokes are indeed hardly recognizable as jokes, even for a human.\n",
    "<br>\n",
    "<br>\n",
    "The follwing movie plot snippet was incorrectly classified as joke:"
   ]
  },
  {
   "cell_type": "code",
   "execution_count": 135,
   "metadata": {},
   "outputs": [
    {
     "name": "stdout",
     "output_type": "stream",
     "text": [
      "Jack is told by the judge that releasing the identity of an adoptee's parents can cause suffering, as he points out that one adopted girl died three years earlier. Jack goes on to research the story of Joe Ottoman, who was in a car accident in 1945 that killed his wife, but his daughter survived. Joe worked for ten years on the Nativity carving. In 1963, Joe made the same mistake and was in a car accident again. His daughter Carmen Ana Ottoman, gave birth to a boy on December 24, 1963, but Carmen died two days later. Joe set his grandson up for adoption, then he disappeared from the presses and no one knew whether or not he was alive.\n",
      "----------\n",
      "He is reunited with his family and all the people who populate his memory. His father is happy to see him. He encounters his dead brother, whom he brings to his parents. The parents are then seen saying goodbye to the young brother as he steps out of a home into a vast expanse. Accompanied by a woman in white and a young woman, Mrs. O'Brien looks to the sky and whispers, \"I give him to you. I give you my son.\"\n",
      "----------\n",
      "Jack is told by the judge that releasing the identity of an adoptee's parents can cause suffering, as he points out that one adopted girl died three years earlier. Jack goes on to research the story of Joe Ottoman, who was in a car accident in 1945 that killed his wife, but his daughter survived. Joe worked for ten years on the Nativity carving. In 1963, Joe made the same mistake and was in a car accident again. His daughter Carmen Ana Ottoman, gave birth to a boy on December 24, 1963, but Carmen died two days later. Joe set his grandson up for adoption, then he disappeared from the presses and no one knew whether or not he was alive.\n",
      "----------\n",
      "During the days in Vegas, they get to know each other, have fun, meet a friend of hers, casino dealer Jerri (Carla Gugino); at night, at least after the first night, things seem to get complicated. When the three days are over, the stripper makes it clear that she was only there for the money and that the man she spent the time with was just a client. Upset that the feelings he had weren't mutual he then rapes her, which she makes no attempt to stop. She then masturbates for him, achieving orgasm, after saying \"you want to see real? I'll show you real.\" The next day he returns home heartbroken.\n",
      "----------\n"
     ]
    }
   ],
   "source": [
    "second_kind_mistakes = fails.loc[fails['label'] == 0]\n",
    "for text in second_kind_mistakes['text']:\n",
    "    print(text + '\\n' + '-'*10)"
   ]
  },
  {
   "cell_type": "markdown",
   "metadata": {},
   "source": [
    "To test the generalizability of the models, they will be first tested on the entire joke and non-joke data. The joke dataset and the non joke dataset will be tested seperately."
   ]
  },
  {
   "cell_type": "code",
   "execution_count": 142,
   "metadata": {},
   "outputs": [
    {
     "name": "stdout",
     "output_type": "stream",
     "text": [
      "Accuracy Linear Regression on Joke Dataset: 0.976116047908398\n",
      "Accuracy Multilayer Perceptron on Joke Dataset: 0.9863720979242036\n"
     ]
    }
   ],
   "source": [
    "from prejokes import JokePreprocessor\n",
    "\n",
    "jokes_file = '../data/s3_curated_jokes.csv'\n",
    "jp = JokePreprocessor()\n",
    "joke_df = jp.load(jokes_file)\n",
    "joke_df.columns = ['text']\n",
    "joke_df['label'] = 1\n",
    "joke_df['sequential_model_prediction'] = joke_df['text'].apply(lambda x: mlp_predict_joke(x, vectorizer, seq_model))\n",
    "joke_df['linear_regression_prediction'] = joke_df['text'].apply(lambda x: lr_predict_joke(x, vectorizer, logistic_classifier))\n",
    "mlp_joke_fails = joke_df.loc[(joke_df['sequential_model_prediction'] == 0)]\n",
    "linear_regression_joke_fails = joke_df.loc[(joke_df['linear_regression_prediction'] == 0)]\n",
    "mlp_joke_accuracy = 1-(mlp_joke_fails.shape[0]/joke_df.shape[0])\n",
    "lin_reg_accuracy = 1-(linear_regression_joke_fails.shape[0]/joke_df.shape[0])\n",
    "print('Accuracy Linear Regression on Joke Dataset: ' + str(lin_reg_accuracy)) \n",
    "print('Accuracy Multilayer Perceptron on Joke Dataset: ' + str(mlp_joke_accuracy))"
   ]
  },
  {
   "cell_type": "code",
   "execution_count": 145,
   "metadata": {},
   "outputs": [
    {
     "name": "stdout",
     "output_type": "stream",
     "text": [
      "Accuracy Linear Regression on Movie Plot Dataset: 0.9890725243210502\n",
      "Accuracy Multilayer Perceptron on Movie Plot Dataset: 0.9876756863666143\n"
     ]
    }
   ],
   "source": [
    "movieplots_file = '../data/plotdata.txt'\n",
    "with open(movieplots_file) as file:\n",
    "    movieplots = file.read().strip().split('\\n\\n\\n\\n\\n\\n')\n",
    "plot_df = pd.DataFrame(movieplots)\n",
    "plot_df.columns = ['plot']\n",
    "plot_df = jp.sentence_n_grams_split(plot_df, 'plot', 6)\n",
    "plot_df.columns = ['text']\n",
    "plot_df['label'] = 0\n",
    "plot_df['sequential_model_prediction'] = plot_df['text'].apply(lambda x: mlp_predict_joke(x, vectorizer, seq_model))\n",
    "plot_df['linear_regression_prediction'] = plot_df['text'].apply(lambda x: lr_predict_joke(x, vectorizer, logistic_classifier))\n",
    "mlp_movieplot_fails = plot_df.loc[(plot_df['sequential_model_prediction'] == 1)]\n",
    "linear_regression_movieplot_fails = plot_df.loc[(plot_df['linear_regression_prediction'] == 1)]\n",
    "mlp_movieplot_accuracy = 1-(mlp_movieplot_fails.shape[0]/plot_df.shape[0])\n",
    "lin_reg_movieplot_accuracy = 1-(linear_regression_movieplot_fails.shape[0]/plot_df.shape[0])\n",
    "print('Accuracy Linear Regression on Movie Plot Dataset: ' + str(lin_reg_movieplot_accuracy)) \n",
    "print('Accuracy Multilayer Perceptron on Movie Plot Dataset: ' + str(mlp_movieplot_accuracy))"
   ]
  },
  {
   "cell_type": "markdown",
   "metadata": {},
   "source": [
    "Additionally, both models are applied on two science fiction novels: Douglas Adams's The Hitchhiker's Guide to the Galaxy and Salman Rushdie's Satanic Verses."
   ]
  },
  {
   "cell_type": "code",
   "execution_count": 147,
   "metadata": {},
   "outputs": [],
   "source": [
    " def load_book_to_df(file):\n",
    "    with open(file, 'r') as textfile:\n",
    "        text = textfile.read().replace('\\n', ' ')\n",
    "        #sentences = sent_tokenize(text)\n",
    "    df = pd.DataFrame([text])\n",
    "    df.columns = ['text']\n",
    "    return df"
   ]
  },
  {
   "cell_type": "markdown",
   "metadata": {},
   "source": [
    "Douglas Adams"
   ]
  },
  {
   "cell_type": "code",
   "execution_count": 153,
   "metadata": {},
   "outputs": [
    {
     "name": "stdout",
     "output_type": "stream",
     "text": [
      "Anteil Humor am gesamten Text (MLP prediaction): 0.9748189361600077\n",
      "Anteil Humor am gesamten Text (LR prediction): 0.9407645450621133\n"
     ]
    }
   ],
   "source": [
    "from nltk.tokenize import sent_tokenize\n",
    "\n",
    "adams = '../data/Adams_Hitchhikers_Guide.txt'\n",
    "adams_df= load_book_to_df(adams)\n",
    "six_grams = jp.sentence_n_grams_split(adams_df, 'text', 6)\n",
    "six_grams['sequential_model_prediction'] = six_grams['joke_ngram'].apply(lambda x: mlp_predict_joke(x, vectorizer, seq_model))\n",
    "six_grams['linear_regression_prediction'] = six_grams['joke_ngram'].apply(lambda x: lr_predict_joke(x, vectorizer, logistic_classifier))\n",
    "mlp_jokes= six_grams.loc[(six_grams['sequential_model_prediction'] == 1)]\n",
    "lr_jokes= six_grams.loc[(six_grams['linear_regression_prediction'] == 1)]\n",
    "print('Anteil Humor am gesamten Text (MLP prediaction): ' + str(mlp_jokes.shape[0]/six_grams.shape[0]))\n",
    "print('Anteil Humor am gesamten Text (LR prediction): ' + str(lr_jokes.shape[0]/six_grams.shape[0]))"
   ]
  },
  {
   "cell_type": "markdown",
   "metadata": {},
   "source": [
    "Salman Rushdie"
   ]
  },
  {
   "cell_type": "code",
   "execution_count": 154,
   "metadata": {},
   "outputs": [
    {
     "name": "stdout",
     "output_type": "stream",
     "text": [
      "Anteil Humor am gesamten Text (MLP prediction): 0.8935897435897436\n",
      "Anteil Humor am gesamten Text (LR prediction): 0.7671245421245422\n"
     ]
    }
   ],
   "source": [
    "adams = '../data/RushdieSalman_TheSatanicVerses.txt'\n",
    "adams_df= load_book_to_df(adams)\n",
    "six_grams = jp.sentence_n_grams_split(adams_df, 'text', 6)\n",
    "six_grams['sequential_model_prediction'] = six_grams['joke_ngram'].apply(lambda x: mlp_predict_joke(x, vectorizer, seq_model))\n",
    "six_grams['linear_regression_prediction'] = six_grams['joke_ngram'].apply(lambda x: lr_predict_joke(x, vectorizer, logistic_classifier))\n",
    "mlp_jokes= six_grams.loc[(six_grams['sequential_model_prediction'] == 1)]\n",
    "lr_jokes= six_grams.loc[(six_grams['linear_regression_prediction'] == 1)]\n",
    "print('Anteil Humor am gesamten Text (MLP prediction): ' + str(mlp_jokes.shape[0]/six_grams.shape[0]))\n",
    "print('Anteil Humor am gesamten Text (LR prediction): ' + str(lr_jokes.shape[0]/six_grams.shape[0]))"
   ]
  },
  {
   "cell_type": "code",
   "execution_count": null,
   "metadata": {},
   "outputs": [],
   "source": []
  }
 ],
 "metadata": {
  "kernelspec": {
   "display_name": "Python 3",
   "language": "python",
   "name": "python3"
  },
  "language_info": {
   "codemirror_mode": {
    "name": "ipython",
    "version": 3
   },
   "file_extension": ".py",
   "mimetype": "text/x-python",
   "name": "python",
   "nbconvert_exporter": "python",
   "pygments_lexer": "ipython3",
   "version": "3.6.4"
  }
 },
 "nbformat": 4,
 "nbformat_minor": 2
}
